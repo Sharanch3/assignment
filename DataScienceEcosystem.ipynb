{
 "cells": [
  {
   "cell_type": "markdown",
   "id": "0204b7bd-2866-48a6-8c83-dcf460367a45",
   "metadata": {},
   "source": [
    "# Data Science Tools and Ecosystem"
   ]
  },
  {
   "cell_type": "markdown",
   "id": "2f88df8d-602e-4807-870f-1822ae9891d4",
   "metadata": {},
   "source": [
    "In this notebook, Data Science Tools and Ecosystem are summarized."
   ]
  },
  {
   "cell_type": "markdown",
   "id": "be1ed654-0bf7-4190-9853-a4e447818ffb",
   "metadata": {},
   "source": [
    "Some of the popular languages that Data Scientists use are:\n",
    "1.Python\n",
    "2.R\n",
    "3.Julia\n",
    "4.SQL"
   ]
  },
  {
   "cell_type": "markdown",
   "id": "479c9476-9b9e-4c8c-a8b5-61897a464214",
   "metadata": {},
   "source": [
    "Some of the commonly used libraries used by Data Scientists include:\n",
    "1.Numpy\n",
    "2.Pandas\n",
    "3.Matplotlib\n",
    "4.Seaborn"
   ]
  },
  {
   "cell_type": "markdown",
   "id": "91c66ff7-ab0d-4d6f-9a35-23bd35066ff9",
   "metadata": {},
   "source": [
    "|Data Science Tools|\n",
    "|---|\n",
    "|SAS|\n",
    "|Apache Hadoop|\n",
    "|Tensor Flow|"
   ]
  },
  {
   "cell_type": "markdown",
   "id": "c789c82f-04a3-4556-8106-1111b9975e73",
   "metadata": {},
   "source": [
    "# Below are a few examples of evaluating arithmetic expressions in Python."
   ]
  },
  {
   "cell_type": "code",
   "execution_count": 3,
   "id": "3258da2f-ac68-4803-8dbb-6e3b30e52af9",
   "metadata": {},
   "outputs": [
    {
     "data": {
      "text/plain": [
       "17"
      ]
     },
     "execution_count": 3,
     "metadata": {},
     "output_type": "execute_result"
    }
   ],
   "source": [
    "# This is the common arithematic example to multipe the number and ten add to t\n",
    "(3*4)+5"
   ]
  },
  {
   "cell_type": "code",
   "execution_count": 4,
   "id": "8f74df1d-887c-4d47-b670-edd782b9c878",
   "metadata": {},
   "outputs": [
    {
     "data": {
      "text/plain": [
       "3.3333333333333335"
      ]
     },
     "execution_count": 4,
     "metadata": {},
     "output_type": "execute_result"
    }
   ],
   "source": [
    "#This will convert 200 minutes to hours by diving by 60.\n",
    "200/60"
   ]
  },
  {
   "cell_type": "markdown",
   "id": "62430e09-1d2c-4b20-bf10-e0b148851bf2",
   "metadata": {},
   "source": [
    "__Objectives__\n",
    "* List popular languages for Data Science.\n",
    "* LIst popular libraries for Data Science.\n",
    "* List well known Data Science Tools.\n",
    "* How to prvide comment in the cell"
   ]
  },
  {
   "cell_type": "markdown",
   "id": "86c0bd88-722e-432d-95b6-4d81fc2184b4",
   "metadata": {},
   "source": [
    "# Author"
   ]
  },
  {
   "cell_type": "markdown",
   "id": "ea915288-3959-434a-aac4-772a5bfe84b4",
   "metadata": {},
   "source": [
    "Gourav Kumar"
   ]
  },
  {
   "cell_type": "code",
   "execution_count": null,
   "id": "9148bd2e-d722-4659-90ab-ce801c6073ae",
   "metadata": {},
   "outputs": [],
   "source": []
  }
 ],
 "metadata": {
  "kernelspec": {
   "display_name": "Python 3 (ipykernel)",
   "language": "python",
   "name": "python3"
  },
  "language_info": {
   "codemirror_mode": {
    "name": "ipython",
    "version": 3
   },
   "file_extension": ".py",
   "mimetype": "text/x-python",
   "name": "python",
   "nbconvert_exporter": "python",
   "pygments_lexer": "ipython3",
   "version": "3.11.7"
  }
 },
 "nbformat": 4,
 "nbformat_minor": 5
}
